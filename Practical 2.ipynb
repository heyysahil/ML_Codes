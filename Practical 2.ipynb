{
 "cells": [
  {
   "cell_type": "code",
   "execution_count": 64,
   "id": "727df070",
   "metadata": {},
   "outputs": [],
   "source": [
    "import pandas as pd\n",
    "import numpy as np\n",
    "import matplotlib.pyplot as plt\n",
    "from sklearn.model_selection import train_test_split\n",
    "from sklearn.preprocessing import StandardScaler\n",
    "from sklearn.linear_model import LinearRegression, Ridge, Lasso\n",
    "from sklearn.metrics import r2_score, mean_squared_error\n",
    "from sklearn.impute import SimpleImputer"
   ]
  },
  {
   "cell_type": "code",
   "execution_count": 65,
   "id": "ea4ea900",
   "metadata": {},
   "outputs": [
    {
     "name": "stdout",
     "output_type": "stream",
     "text": [
      "        Unnamed: 0                            key  fare_amount  \\\n",
      "0         24238194    2015-05-07 19:52:06.0000003          7.5   \n",
      "1         27835199    2009-07-17 20:04:56.0000002          7.7   \n",
      "2         44984355   2009-08-24 21:45:00.00000061         12.9   \n",
      "3         25894730    2009-06-26 08:22:21.0000001          5.3   \n",
      "4         17610152  2014-08-28 17:47:00.000000188         16.0   \n",
      "...            ...                            ...          ...   \n",
      "199995    42598914   2012-10-28 10:49:00.00000053          3.0   \n",
      "199996    16382965    2014-03-14 01:09:00.0000008          7.5   \n",
      "199997    27804658   2009-06-29 00:42:00.00000078         30.9   \n",
      "199998    20259894    2015-05-20 14:56:25.0000004         14.5   \n",
      "199999    11951496   2010-05-15 04:08:00.00000076         14.1   \n",
      "\n",
      "                pickup_datetime  pickup_longitude  pickup_latitude  \\\n",
      "0       2015-05-07 19:52:06 UTC        -73.999817        40.738354   \n",
      "1       2009-07-17 20:04:56 UTC        -73.994355        40.728225   \n",
      "2       2009-08-24 21:45:00 UTC        -74.005043        40.740770   \n",
      "3       2009-06-26 08:22:21 UTC        -73.976124        40.790844   \n",
      "4       2014-08-28 17:47:00 UTC        -73.925023        40.744085   \n",
      "...                         ...               ...              ...   \n",
      "199995  2012-10-28 10:49:00 UTC        -73.987042        40.739367   \n",
      "199996  2014-03-14 01:09:00 UTC        -73.984722        40.736837   \n",
      "199997  2009-06-29 00:42:00 UTC        -73.986017        40.756487   \n",
      "199998  2015-05-20 14:56:25 UTC        -73.997124        40.725452   \n",
      "199999  2010-05-15 04:08:00 UTC        -73.984395        40.720077   \n",
      "\n",
      "        dropoff_longitude  dropoff_latitude  passenger_count  \n",
      "0              -73.999512         40.723217                1  \n",
      "1              -73.994710         40.750325                1  \n",
      "2              -73.962565         40.772647                1  \n",
      "3              -73.965316         40.803349                3  \n",
      "4              -73.973082         40.761247                5  \n",
      "...                   ...               ...              ...  \n",
      "199995         -73.986525         40.740297                1  \n",
      "199996         -74.006672         40.739620                1  \n",
      "199997         -73.858957         40.692588                2  \n",
      "199998         -73.983215         40.695415                1  \n",
      "199999         -73.985508         40.768793                1  \n",
      "\n",
      "[200000 rows x 9 columns]\n"
     ]
    }
   ],
   "source": [
    "# Load the dataset\n",
    "df = pd.read_csv(\"./datasets/uber.csv\")\n",
    "\n",
    "# view dataset\n",
    "print(df)"
   ]
  },
  {
   "cell_type": "code",
   "execution_count": 66,
   "id": "6537fd7f",
   "metadata": {},
   "outputs": [],
   "source": [
    "df['pickup_datetime'] = pd.to_datetime(df['pickup_datetime'])\n",
    "# print(df['pickup_datetime'])\n",
    "df['hour'] = df['pickup_datetime'].dt.hour\n",
    "# print(df['hour'])\n",
    "df['day_of_week'] = df['pickup_datetime'].dt.dayofweek\n",
    "# print(df['day_of_week'])"
   ]
  },
  {
   "cell_type": "code",
   "execution_count": 67,
   "id": "8a722874",
   "metadata": {},
   "outputs": [
    {
     "name": "stdout",
     "output_type": "stream",
     "text": [
      "        Unnamed: 0                            key  fare_amount  \\\n",
      "0         24238194    2015-05-07 19:52:06.0000003          7.5   \n",
      "1         27835199    2009-07-17 20:04:56.0000002          7.7   \n",
      "2         44984355   2009-08-24 21:45:00.00000061         12.9   \n",
      "3         25894730    2009-06-26 08:22:21.0000001          5.3   \n",
      "4         17610152  2014-08-28 17:47:00.000000188         16.0   \n",
      "...            ...                            ...          ...   \n",
      "199995    42598914   2012-10-28 10:49:00.00000053          3.0   \n",
      "199996    16382965    2014-03-14 01:09:00.0000008          7.5   \n",
      "199997    27804658   2009-06-29 00:42:00.00000078         30.9   \n",
      "199998    20259894    2015-05-20 14:56:25.0000004         14.5   \n",
      "199999    11951496   2010-05-15 04:08:00.00000076         14.1   \n",
      "\n",
      "                 pickup_datetime  pickup_longitude  pickup_latitude  \\\n",
      "0      2015-05-07 19:52:06+00:00        -73.999817        40.738354   \n",
      "1      2009-07-17 20:04:56+00:00        -73.994355        40.728225   \n",
      "2      2009-08-24 21:45:00+00:00        -74.005043        40.740770   \n",
      "3      2009-06-26 08:22:21+00:00        -73.976124        40.790844   \n",
      "4      2014-08-28 17:47:00+00:00        -73.925023        40.744085   \n",
      "...                          ...               ...              ...   \n",
      "199995 2012-10-28 10:49:00+00:00        -73.987042        40.739367   \n",
      "199996 2014-03-14 01:09:00+00:00        -73.984722        40.736837   \n",
      "199997 2009-06-29 00:42:00+00:00        -73.986017        40.756487   \n",
      "199998 2015-05-20 14:56:25+00:00        -73.997124        40.725452   \n",
      "199999 2010-05-15 04:08:00+00:00        -73.984395        40.720077   \n",
      "\n",
      "        dropoff_longitude  dropoff_latitude  passenger_count  hour  \\\n",
      "0              -73.999512         40.723217                1    19   \n",
      "1              -73.994710         40.750325                1    20   \n",
      "2              -73.962565         40.772647                1    21   \n",
      "3              -73.965316         40.803349                3     8   \n",
      "4              -73.973082         40.761247                5    17   \n",
      "...                   ...               ...              ...   ...   \n",
      "199995         -73.986525         40.740297                1    10   \n",
      "199996         -74.006672         40.739620                1     1   \n",
      "199997         -73.858957         40.692588                2     0   \n",
      "199998         -73.983215         40.695415                1    14   \n",
      "199999         -73.985508         40.768793                1     4   \n",
      "\n",
      "        day_of_week  \n",
      "0                 3  \n",
      "1                 4  \n",
      "2                 0  \n",
      "3                 4  \n",
      "4                 3  \n",
      "...             ...  \n",
      "199995            6  \n",
      "199996            4  \n",
      "199997            0  \n",
      "199998            2  \n",
      "199999            5  \n",
      "\n",
      "[200000 rows x 11 columns]\n"
     ]
    }
   ],
   "source": [
    "# check datasets for more columns we added 'hour' and 'day_of_week' column\n",
    "print(df)"
   ]
  },
  {
   "cell_type": "code",
   "execution_count": 68,
   "id": "77484ea4",
   "metadata": {},
   "outputs": [],
   "source": [
    "# Drop unnecessary columns\n",
    "df = df.drop(columns=['Unnamed: 0', 'key', 'pickup_datetime'])"
   ]
  },
  {
   "cell_type": "code",
   "execution_count": 69,
   "id": "f2d7daab",
   "metadata": {},
   "outputs": [
    {
     "name": "stdout",
     "output_type": "stream",
     "text": [
      "        fare_amount  pickup_longitude  pickup_latitude  dropoff_longitude  \\\n",
      "0               7.5        -73.999817        40.738354         -73.999512   \n",
      "1               7.7        -73.994355        40.728225         -73.994710   \n",
      "2              12.9        -74.005043        40.740770         -73.962565   \n",
      "3               5.3        -73.976124        40.790844         -73.965316   \n",
      "4              16.0        -73.925023        40.744085         -73.973082   \n",
      "...             ...               ...              ...                ...   \n",
      "199995          3.0        -73.987042        40.739367         -73.986525   \n",
      "199996          7.5        -73.984722        40.736837         -74.006672   \n",
      "199997         30.9        -73.986017        40.756487         -73.858957   \n",
      "199998         14.5        -73.997124        40.725452         -73.983215   \n",
      "199999         14.1        -73.984395        40.720077         -73.985508   \n",
      "\n",
      "        dropoff_latitude  passenger_count  hour  day_of_week  \n",
      "0              40.723217                1    19            3  \n",
      "1              40.750325                1    20            4  \n",
      "2              40.772647                1    21            0  \n",
      "3              40.803349                3     8            4  \n",
      "4              40.761247                5    17            3  \n",
      "...                  ...              ...   ...          ...  \n",
      "199995         40.740297                1    10            6  \n",
      "199996         40.739620                1     1            4  \n",
      "199997         40.692588                2     0            0  \n",
      "199998         40.695415                1    14            2  \n",
      "199999         40.768793                1     4            5  \n",
      "\n",
      "[200000 rows x 8 columns]\n"
     ]
    }
   ],
   "source": [
    "# check datasets for removal of columns we removed 'first_column with no name', 'key' and 'pickup_datetime' column\n",
    "print(df)"
   ]
  },
  {
   "cell_type": "code",
   "execution_count": 70,
   "id": "953b4a7b",
   "metadata": {},
   "outputs": [],
   "source": [
    "# Handle missing values\n",
    "imputer = SimpleImputer(strategy='mean')\n",
    "df_imputed = pd.DataFrame(imputer.fit_transform(df), columns=df.columns)"
   ]
  },
  {
   "cell_type": "code",
   "execution_count": 75,
   "id": "2b3cc569",
   "metadata": {},
   "outputs": [],
   "source": [
    "# Split the data into features (X) and target (y)\n",
    "X = df_imputed.drop(columns=['fare_amount'])  # create new dataset ignoring 'fare_amount' column\n",
    "y = df_imputed['fare_amount']  # create a series of only 'fare_amount' column"
   ]
  },
  {
   "cell_type": "code",
   "execution_count": 76,
   "id": "fbcf2d05",
   "metadata": {},
   "outputs": [],
   "source": [
    "# Split the data into training and testing sets\n",
    "X_train, X_test, y_train, y_test = train_test_split(X, y, test_size=0.2, random_state=42)"
   ]
  },
  {
   "cell_type": "code",
   "execution_count": 77,
   "id": "95669338",
   "metadata": {},
   "outputs": [],
   "source": [
    "# Standardize the features (scaling)\n",
    "scaler = StandardScaler()\n",
    "X_train_scaled = scaler.fit_transform(X_train)\n",
    "X_test_scaled = scaler.transform(X_test)"
   ]
  },
  {
   "cell_type": "code",
   "execution_count": 78,
   "id": "3404f87a",
   "metadata": {},
   "outputs": [],
   "source": [
    "# Implement Linear Regression\n",
    "lr_model = LinearRegression()\n",
    "lr_model.fit(X_train_scaled, y_train)\n",
    "y_pred_lr = lr_model.predict(X_test_scaled)"
   ]
  },
  {
   "cell_type": "code",
   "execution_count": 79,
   "id": "ea140022",
   "metadata": {},
   "outputs": [],
   "source": [
    "# Implement Ridge Regression\n",
    "ridge_model = Ridge(alpha=1.0)  # You can experiment with different alpha values\n",
    "ridge_model.fit(X_train_scaled, y_train)\n",
    "y_pred_ridge = ridge_model.predict(X_test_scaled)"
   ]
  },
  {
   "cell_type": "code",
   "execution_count": 80,
   "id": "574e03f6",
   "metadata": {},
   "outputs": [],
   "source": [
    "# Implement Lasso Regression\n",
    "lasso_model = Lasso(alpha=0.1)  # You can experiment with different alpha values\n",
    "lasso_model.fit(X_train_scaled, y_train)\n",
    "y_pred_lasso = lasso_model.predict(X_test_scaled)"
   ]
  },
  {
   "cell_type": "code",
   "execution_count": 81,
   "id": "16245eec",
   "metadata": {},
   "outputs": [],
   "source": [
    "# Evaluate the models\n",
    "def evaluate_model(y_true, y_pred, model_name):\n",
    "    r2 = r2_score(y_true, y_pred)\n",
    "    rmse = np.sqrt(mean_squared_error(y_true, y_pred))\n",
    "    print(f\"{model_name} - R2 Score: {r2:.4f}, RMSE: {rmse:.2f}\")"
   ]
  },
  {
   "cell_type": "code",
   "execution_count": 82,
   "id": "42a3de68",
   "metadata": {},
   "outputs": [
    {
     "name": "stdout",
     "output_type": "stream",
     "text": [
      "Linear Regression - R2 Score: 0.0007, RMSE: 10.31\n",
      "Ridge Regression - R2 Score: 0.0007, RMSE: 10.31\n",
      "Lasso Regression - R2 Score: 0.0003, RMSE: 10.31\n"
     ]
    }
   ],
   "source": [
    "evaluate_model(y_test, y_pred_lr, \"Linear Regression\")\n",
    "evaluate_model(y_test, y_pred_ridge, \"Ridge Regression\")\n",
    "evaluate_model(y_test, y_pred_lasso, \"Lasso Regression\")"
   ]
  },
  {
   "cell_type": "code",
   "execution_count": null,
   "id": "06474cb6",
   "metadata": {},
   "outputs": [],
   "source": []
  }
 ],
 "metadata": {
  "kernelspec": {
   "display_name": "Python 3 (ipykernel)",
   "language": "python",
   "name": "python3"
  },
  "language_info": {
   "codemirror_mode": {
    "name": "ipython",
    "version": 3
   },
   "file_extension": ".py",
   "mimetype": "text/x-python",
   "name": "python",
   "nbconvert_exporter": "python",
   "pygments_lexer": "ipython3",
   "version": "3.8.5"
  }
 },
 "nbformat": 4,
 "nbformat_minor": 5
}
